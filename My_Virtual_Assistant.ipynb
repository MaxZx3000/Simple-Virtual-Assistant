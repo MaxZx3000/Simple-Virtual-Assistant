{
  "cells": [
    {
      "cell_type": "markdown",
      "metadata": {
        "id": "pVZ4YIDe2_q5"
      },
      "source": [
        "# **My Virtual Assistant + Clean Code Principles**\n",
        "\n",
        "Name: Anthony Kevin Oktavius\n",
        "\n",
        "NIM: 2301862866"
      ]
    },
    {
      "cell_type": "markdown",
      "metadata": {
        "id": "4uaQxts-3HMX"
      },
      "source": [
        "Library Import"
      ]
    },
    {
      "cell_type": "code",
      "execution_count": null,
      "metadata": {
        "colab": {
          "base_uri": "https://localhost:8080/"
        },
        "id": "QQ5uPM-Y3G2g",
        "outputId": "15103988-3edb-41b1-821b-fb53ab4eaa84"
      },
      "outputs": [],
      "source": [
        "import pyttsx3\n",
        "import smtplib\n",
        "import webbrowser\n",
        "import wikipedia\n",
        "import speech_recognition\n",
        "import datetime\n",
        "from email.mime.multipart import MIMEMultipart\n",
        "from email.mime.text import MIMEText"
      ]
    },
    {
      "cell_type": "markdown",
      "metadata": {
        "id": "3KL6zYUe3WK9"
      },
      "source": [
        "Below is the explanations for each classes:\n",
        "\n",
        "*   MIMEEmailClasses\n",
        "*   MyVirtualAssistant\n",
        "\n"
      ]
    },
    {
      "cell_type": "code",
      "execution_count": null,
      "metadata": {
        "id": "upH6iNAW8bqf"
      },
      "outputs": [],
      "source": [
        "class MIMEEmailClasses:\n",
        "  def set_email_data(self, \n",
        "                     smtp_server, \n",
        "                     smtp_password, \n",
        "                     to_address, \n",
        "                     from_address,\n",
        "                     title,\n",
        "                     body,\n",
        "                     #  attachment\n",
        "                     ):\n",
        "    self.smtp_server = smtp_server\n",
        "    self.smtp_password = smtp_password\n",
        "    self.to_address = to_address\n",
        "    self.from_address = from_address\n",
        "    self.title = title\n",
        "    self.body = body\n",
        "    # self.attachment = attachment\n",
        "\n",
        "  def send_mail(self):\n",
        "    message = MIMEMultipart()\n",
        "    message['From'] = self.from_address\n",
        "    message['To'] = self.to_address\n",
        "    message['Subject'] = self.title\n",
        "\n",
        "    message.attach(MIMEText(self.body, 'plain'))\n",
        "\n",
        "    smtp_session = smtplib.SMTP(self.smtp_server, 587)\n",
        "    smtp_session.starttls()\n",
        "    smtp_session.login(self.from_address, self.smtp_password)\n",
        "    my_message = message.as_string()\n",
        "    smtp_session.sendmail(self.from_address, self.to_address, self.body)\n",
        "    smtp_session.quit()"
      ]
    },
    {
      "cell_type": "code",
      "execution_count": null,
      "metadata": {
        "id": "dvo-haDXB04o"
      },
      "outputs": [],
      "source": [
        "class MyVirtualAssistant:\n",
        "  def __init__(self):\n",
        "    self.speech_engine = pyttsx3.init()\n",
        "    self.recognizer_engine = speech_recognition.Recognizer()\n",
        "    self.__MALE_VOICE__ = 0\n",
        "    self.__FEMALE_VOICE__ = 1\n",
        "\n",
        "  # 0: Male, 1: Female\n",
        "  def say(self, audio, voice_gender=0):\n",
        "    voice_engine = self.speech_engine.getProperty('voices')\n",
        "    self.speech_engine.setProperty('voice', voice_engine[voice_gender].id)\n",
        "    self.speech_engine.say(audio)\n",
        "    self.speech_engine.runAndWait()\n",
        "  \n",
        "  def listen(self, pause_threshold=0.7, speech_language='en-US'):\n",
        "  \n",
        "    with speech_recognition.Microphone() as source:\n",
        "      self.recognizer_engine.pause_threshold = pause_threshold\n",
        "      # self.recognizer_engine.adjust_for_ambient_noise(source, duration=1)\n",
        "      self.recognizer_engine.energy_threshold = 50\n",
        "      self.recognizer_engine.dynamic_energy_threshold = False\n",
        "      while(True):\n",
        "        \n",
        "        recognized_audio = self.recognizer_engine.listen(source)\n",
        "\n",
        "        try:\n",
        "          query = self.recognizer_engine.recognize_google(recognized_audio,\n",
        "                                                    language=speech_language)\n",
        "          \n",
        "          print(f\"Command: {query}\")\n",
        "\n",
        "        except Exception as e:\n",
        "          print(f\"Error: {e}\")\n",
        "          not_understand_message = \"I don't understand. Please try again.\"\n",
        "          print(not_understand_message)\n",
        "          self.say(not_understand_message)\n",
        "          continue\n",
        "\n",
        "        return query\n",
        "\n",
        "  def perform_conversation_with_user(self):\n",
        "    self.hello()\n",
        "    self.recognize_user()\n",
        "    self.perform_action()\n",
        "    \n",
        "  def perform_action(self):\n",
        "    ask_task_message = \"Now, please tell me what you'd like to do.\"\n",
        "    print(ask_task_message)\n",
        "    self.say(ask_task_message)\n",
        "\n",
        "    while (True):\n",
        "      query = self.listen().lower()\n",
        "\n",
        "      if \"email\" in query:\n",
        "        self.email(MIMEEmailClasses())\n",
        "        self.anything_else()\n",
        "\n",
        "      elif \"tell me more about you\" in query:\n",
        "        self.tell_about_my_virtual_assistant()\n",
        "        self.anything_else()\n",
        "\n",
        "      elif \"thank you\" in query:\n",
        "        self.thank_you()\n",
        "        self.anything_else()\n",
        "\n",
        "      elif \"goodbye\" in query:\n",
        "        self.goodbye()\n",
        "        return\n",
        "      else:\n",
        "        self.understand_but_no_idea_task()\n",
        "        self.anything_else()\n",
        "    \n",
        "  def anything_else(self):\n",
        "    anything_else_message = \"Anything else?\"\n",
        "    print(anything_else_message)\n",
        "    self.say(anything_else_message)\n",
        "\n",
        "  def tell_about_my_virtual_assistant(self):\n",
        "    tell_about_my_virtual_assistant_message = \"My name is InfiniAssistant. Nice to meet you.\"\n",
        "    print(tell_about_my_virtual_assistant_message)\n",
        "    self.say(tell_about_my_virtual_assistant_message)\n",
        "\n",
        "  def thank_you(self):\n",
        "    anything_else_message = \"Pleasure. I'm very happy to help you!\"\n",
        "    print(anything_else_message)\n",
        "    self.say(anything_else_message)\n",
        "\n",
        "  def understand_but_no_idea_task(self):\n",
        "    anything_else_message = \"Well, I understand what you're saying. However, I've no idea to do that. I'm sorry\"\n",
        "    print(anything_else_message)\n",
        "    self.say(anything_else_message)\n",
        "\n",
        "  def hello(self):\n",
        "    hello_message = \"Hello user!\"\n",
        "    print(hello_message)\n",
        "    self.say(hello_message)\n",
        "\n",
        "  def recognize_user(self):\n",
        "    recognize_user_message = \"Tell me. What is your name?\"\n",
        "    print(recognize_user_message)\n",
        "    self.say(recognize_user_message)\n",
        "\n",
        "    username = self.listen(0.7, \"en-id\")\n",
        "    username_recognized_message = f\"\"\"Hello {username}, nice to meet you. Now, let's get started!\"\"\"\n",
        "    print(username_recognized_message)\n",
        "    self.say(username_recognized_message)\n",
        "\n",
        "  def email(self, email):\n",
        "    intro = \"Now let's get you setup for the email. Please type the information that we need..\"\n",
        "    print(intro)\n",
        "    self.say(intro)\n",
        "\n",
        "    send_from_message = \"Please enter your email address: \"\n",
        "    print(send_from_message)\n",
        "    self.say(send_from_message)\n",
        "    send_from = input()\n",
        "\n",
        "    password_input_message = \"Please enter your email password: \"\n",
        "    print(password_input_message)\n",
        "    self.say(password_input_message)\n",
        "    password = input()\n",
        "\n",
        "    send_to_message = \"Please enter your destination address\"\n",
        "    print(send_to_message)\n",
        "    self.say(send_to_message)\n",
        "    send_to = input()\n",
        "\n",
        "    subject_message = \"Please enter the subject of the email: \"\n",
        "    print(subject_message)\n",
        "    self.say(subject_message)\n",
        "    subject = input()\n",
        "\n",
        "    body_message = \"Please enter the body of the email: \"\n",
        "    print(body_message)\n",
        "    self.say(body_message)\n",
        "    body = input()\n",
        "\n",
        "    done_message = \"We've gathered all the information I need. Please stand by.\"\n",
        "    print(done_message)\n",
        "    self.say(done_message)\n",
        "\n",
        "    email.set_email_data(\"smtp.gmail.com\",\n",
        "                         password,\n",
        "                         send_to,\n",
        "                         send_from,\n",
        "                         subject,\n",
        "                         body)\n",
        "    email.send_mail()\n",
        "    self.done()\n",
        "    \n",
        "  def done(self):\n",
        "    done_and_dusted_message = \"Done and dusted!\"\n",
        "    print(done_and_dusted_message)\n",
        "    self.say(done_and_dusted_message)\n",
        "\n",
        "  def goodbye(self):\n",
        "    goodbye_message = \"Goodbye! We hope to see you again!\"\n",
        "    print(goodbye_message)\n",
        "    self.say(goodbye_message)\n"
      ]
    },
    {
      "cell_type": "markdown",
      "metadata": {
        "id": "3MGA8NiX3URi"
      },
      "source": [
        "Perform Conversation with Virtual Assistant"
      ]
    },
    {
      "cell_type": "code",
      "execution_count": null,
      "metadata": {
        "colab": {
          "base_uri": "https://localhost:8080/",
          "height": 432
        },
        "id": "hvO6u9tn3VsI",
        "outputId": "9857bad7-003e-4e32-c718-25dc5172cde5"
      },
      "outputs": [],
      "source": [
        "virtual_assistant = MyVirtualAssistant()\n",
        "virtual_assistant.perform_conversation_with_user()"
      ]
    }
  ],
  "metadata": {
    "colab": {
      "collapsed_sections": [],
      "name": "My Virtual Assistant.ipynb",
      "provenance": []
    },
    "kernelspec": {
      "display_name": "Python 3",
      "name": "python3"
    },
    "language_info": {
      "codemirror_mode": {
        "name": "ipython",
        "version": 3
      },
      "file_extension": ".py",
      "mimetype": "text/x-python",
      "name": "python",
      "nbconvert_exporter": "python",
      "pygments_lexer": "ipython3",
      "version": "3.7.6"
    }
  },
  "nbformat": 4,
  "nbformat_minor": 0
}
